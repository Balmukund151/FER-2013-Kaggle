{
  "nbformat": 4,
  "nbformat_minor": 0,
  "metadata": {
    "colab": {
      "name": "Fer2013.ipynb",
      "provenance": [],
      "collapsed_sections": []
    },
    "kernelspec": {
      "name": "python3",
      "display_name": "Python 3"
    },
    "accelerator": "GPU"
  },
  "cells": [
    {
      "cell_type": "code",
      "metadata": {
        "id": "Cfac6lrHJn6D",
        "colab_type": "code",
        "colab": {}
      },
      "source": [
        "from google.colab import drive\n",
        "drive.mount('/content/gdrive') "
      ],
      "execution_count": 0,
      "outputs": []
    },
    {
      "cell_type": "code",
      "metadata": {
        "id": "nJFZnHZYZXdt",
        "colab_type": "code",
        "colab": {}
      },
      "source": [
        "import torch\n",
        "from torch.utils import data\n",
        "import pandas as pd\n",
        "import albumentations\n",
        "from albumentations import torch as AT\n",
        "from tqdm import tqdm\n",
        "import math\n",
        "import numpy as np\n",
        "from PIL import Image\n",
        "from matplotlib import pyplot as plt\n",
        "%matplotlib inline \n",
        "import torch.nn.functional as F\n",
        "#from albumentations import pytorch as AT"
      ],
      "execution_count": 0,
      "outputs": []
    },
    {
      "cell_type": "code",
      "metadata": {
        "id": "gwD0ORTtUvn5",
        "colab_type": "code",
        "colab": {}
      },
      "source": [
        "use_cuda = torch.cuda.is_available()\n",
        "device = torch.device(\"cuda\" if use_cuda else \"cpu\")"
      ],
      "execution_count": 0,
      "outputs": []
    },
    {
      "cell_type": "code",
      "metadata": {
        "id": "DOJCmwh_Zipe",
        "colab_type": "code",
        "colab": {
          "base_uri": "https://localhost:8080/",
          "height": 35
        },
        "outputId": "505e974c-fe0a-41a6-8e9f-4943316a591e"
      },
      "source": [
        "%cd \"/content/gdrive/My Drive/Colab Notebooks/FER2013-Kaggle\""
      ],
      "execution_count": 4,
      "outputs": [
        {
          "output_type": "stream",
          "text": [
            "/content/gdrive/My Drive/Colab Notebooks/FER2013-Kaggle\n"
          ],
          "name": "stdout"
        }
      ]
    },
    {
      "cell_type": "code",
      "metadata": {
        "id": "tF22OhwBZrwC",
        "colab_type": "code",
        "colab": {
          "base_uri": "https://localhost:8080/",
          "height": 202
        },
        "outputId": "452fa583-9862-4820-f1dc-e113bf44862a"
      },
      "source": [
        "df=pd.read_csv('fer2013.csv')\n",
        "df.head()"
      ],
      "execution_count": 5,
      "outputs": [
        {
          "output_type": "execute_result",
          "data": {
            "text/html": [
              "<div>\n",
              "<style scoped>\n",
              "    .dataframe tbody tr th:only-of-type {\n",
              "        vertical-align: middle;\n",
              "    }\n",
              "\n",
              "    .dataframe tbody tr th {\n",
              "        vertical-align: top;\n",
              "    }\n",
              "\n",
              "    .dataframe thead th {\n",
              "        text-align: right;\n",
              "    }\n",
              "</style>\n",
              "<table border=\"1\" class=\"dataframe\">\n",
              "  <thead>\n",
              "    <tr style=\"text-align: right;\">\n",
              "      <th></th>\n",
              "      <th>emotion</th>\n",
              "      <th>pixels</th>\n",
              "      <th>Usage</th>\n",
              "    </tr>\n",
              "  </thead>\n",
              "  <tbody>\n",
              "    <tr>\n",
              "      <th>0</th>\n",
              "      <td>0</td>\n",
              "      <td>70 80 82 72 58 58 60 63 54 58 60 48 89 115 121...</td>\n",
              "      <td>Training</td>\n",
              "    </tr>\n",
              "    <tr>\n",
              "      <th>1</th>\n",
              "      <td>0</td>\n",
              "      <td>151 150 147 155 148 133 111 140 170 174 182 15...</td>\n",
              "      <td>Training</td>\n",
              "    </tr>\n",
              "    <tr>\n",
              "      <th>2</th>\n",
              "      <td>2</td>\n",
              "      <td>231 212 156 164 174 138 161 173 182 200 106 38...</td>\n",
              "      <td>Training</td>\n",
              "    </tr>\n",
              "    <tr>\n",
              "      <th>3</th>\n",
              "      <td>4</td>\n",
              "      <td>24 32 36 30 32 23 19 20 30 41 21 22 32 34 21 1...</td>\n",
              "      <td>Training</td>\n",
              "    </tr>\n",
              "    <tr>\n",
              "      <th>4</th>\n",
              "      <td>6</td>\n",
              "      <td>4 0 0 0 0 0 0 0 0 0 0 0 3 15 23 28 48 50 58 84...</td>\n",
              "      <td>Training</td>\n",
              "    </tr>\n",
              "  </tbody>\n",
              "</table>\n",
              "</div>"
            ],
            "text/plain": [
              "   emotion                                             pixels     Usage\n",
              "0        0  70 80 82 72 58 58 60 63 54 58 60 48 89 115 121...  Training\n",
              "1        0  151 150 147 155 148 133 111 140 170 174 182 15...  Training\n",
              "2        2  231 212 156 164 174 138 161 173 182 200 106 38...  Training\n",
              "3        4  24 32 36 30 32 23 19 20 30 41 21 22 32 34 21 1...  Training\n",
              "4        6  4 0 0 0 0 0 0 0 0 0 0 0 3 15 23 28 48 50 58 84...  Training"
            ]
          },
          "metadata": {
            "tags": []
          },
          "execution_count": 5
        }
      ]
    },
    {
      "cell_type": "code",
      "metadata": {
        "id": "Ylm3lKqKbJdT",
        "colab_type": "code",
        "colab": {
          "base_uri": "https://localhost:8080/",
          "height": 35
        },
        "outputId": "d317b6a0-42be-4ce5-a602-213062f9f5a8"
      },
      "source": [
        "df['Usage'].unique()"
      ],
      "execution_count": 6,
      "outputs": [
        {
          "output_type": "execute_result",
          "data": {
            "text/plain": [
              "array(['Training', 'PublicTest', 'PrivateTest'], dtype=object)"
            ]
          },
          "metadata": {
            "tags": []
          },
          "execution_count": 6
        }
      ]
    },
    {
      "cell_type": "code",
      "metadata": {
        "id": "JebBp630bbUv",
        "colab_type": "code",
        "colab": {
          "base_uri": "https://localhost:8080/",
          "height": 69
        },
        "outputId": "cc3ceae9-ea84-4550-8e7e-7e4c6a612318"
      },
      "source": [
        "print(len(df[df['Usage']=='Training']))\n",
        "print(len(df[df['Usage']=='PublicTest']))\n",
        "print(len(df[df['Usage']=='PrivateTest']))"
      ],
      "execution_count": 7,
      "outputs": [
        {
          "output_type": "stream",
          "text": [
            "28709\n",
            "3589\n",
            "3589\n"
          ],
          "name": "stdout"
        }
      ]
    },
    {
      "cell_type": "code",
      "metadata": {
        "id": "oBzogDNtCPNn",
        "colab_type": "code",
        "colab": {}
      },
      "source": [
        "df['pixelss']=[[int(y) for y in x.split()] for x in df['pixels']]"
      ],
      "execution_count": 0,
      "outputs": []
    },
    {
      "cell_type": "code",
      "metadata": {
        "id": "_8oXTvZlJKm4",
        "colab_type": "code",
        "colab": {
          "base_uri": "https://localhost:8080/",
          "height": 202
        },
        "outputId": "52b1de46-ddbd-4046-ab7c-250a87ff4576"
      },
      "source": [
        "df.head()"
      ],
      "execution_count": 9,
      "outputs": [
        {
          "output_type": "execute_result",
          "data": {
            "text/html": [
              "<div>\n",
              "<style scoped>\n",
              "    .dataframe tbody tr th:only-of-type {\n",
              "        vertical-align: middle;\n",
              "    }\n",
              "\n",
              "    .dataframe tbody tr th {\n",
              "        vertical-align: top;\n",
              "    }\n",
              "\n",
              "    .dataframe thead th {\n",
              "        text-align: right;\n",
              "    }\n",
              "</style>\n",
              "<table border=\"1\" class=\"dataframe\">\n",
              "  <thead>\n",
              "    <tr style=\"text-align: right;\">\n",
              "      <th></th>\n",
              "      <th>emotion</th>\n",
              "      <th>pixels</th>\n",
              "      <th>Usage</th>\n",
              "      <th>pixelss</th>\n",
              "    </tr>\n",
              "  </thead>\n",
              "  <tbody>\n",
              "    <tr>\n",
              "      <th>0</th>\n",
              "      <td>0</td>\n",
              "      <td>70 80 82 72 58 58 60 63 54 58 60 48 89 115 121...</td>\n",
              "      <td>Training</td>\n",
              "      <td>[70, 80, 82, 72, 58, 58, 60, 63, 54, 58, 60, 4...</td>\n",
              "    </tr>\n",
              "    <tr>\n",
              "      <th>1</th>\n",
              "      <td>0</td>\n",
              "      <td>151 150 147 155 148 133 111 140 170 174 182 15...</td>\n",
              "      <td>Training</td>\n",
              "      <td>[151, 150, 147, 155, 148, 133, 111, 140, 170, ...</td>\n",
              "    </tr>\n",
              "    <tr>\n",
              "      <th>2</th>\n",
              "      <td>2</td>\n",
              "      <td>231 212 156 164 174 138 161 173 182 200 106 38...</td>\n",
              "      <td>Training</td>\n",
              "      <td>[231, 212, 156, 164, 174, 138, 161, 173, 182, ...</td>\n",
              "    </tr>\n",
              "    <tr>\n",
              "      <th>3</th>\n",
              "      <td>4</td>\n",
              "      <td>24 32 36 30 32 23 19 20 30 41 21 22 32 34 21 1...</td>\n",
              "      <td>Training</td>\n",
              "      <td>[24, 32, 36, 30, 32, 23, 19, 20, 30, 41, 21, 2...</td>\n",
              "    </tr>\n",
              "    <tr>\n",
              "      <th>4</th>\n",
              "      <td>6</td>\n",
              "      <td>4 0 0 0 0 0 0 0 0 0 0 0 3 15 23 28 48 50 58 84...</td>\n",
              "      <td>Training</td>\n",
              "      <td>[4, 0, 0, 0, 0, 0, 0, 0, 0, 0, 0, 0, 3, 15, 23...</td>\n",
              "    </tr>\n",
              "  </tbody>\n",
              "</table>\n",
              "</div>"
            ],
            "text/plain": [
              "   emotion  ...                                            pixelss\n",
              "0        0  ...  [70, 80, 82, 72, 58, 58, 60, 63, 54, 58, 60, 4...\n",
              "1        0  ...  [151, 150, 147, 155, 148, 133, 111, 140, 170, ...\n",
              "2        2  ...  [231, 212, 156, 164, 174, 138, 161, 173, 182, ...\n",
              "3        4  ...  [24, 32, 36, 30, 32, 23, 19, 20, 30, 41, 21, 2...\n",
              "4        6  ...  [4, 0, 0, 0, 0, 0, 0, 0, 0, 0, 0, 0, 3, 15, 23...\n",
              "\n",
              "[5 rows x 4 columns]"
            ]
          },
          "metadata": {
            "tags": []
          },
          "execution_count": 9
        }
      ]
    },
    {
      "cell_type": "code",
      "metadata": {
        "id": "W-BIXDYkb3ts",
        "colab_type": "code",
        "colab": {}
      },
      "source": [
        "df_train=df[df['Usage']=='Training']\n",
        "df_valid=df[df['Usage']=='PrivateTest']\n",
        "df_test=df[df['Usage']=='PublicTest']"
      ],
      "execution_count": 0,
      "outputs": []
    },
    {
      "cell_type": "code",
      "metadata": {
        "id": "embBCgPsM14N",
        "colab_type": "code",
        "colab": {
          "base_uri": "https://localhost:8080/",
          "height": 267
        },
        "outputId": "c18607e7-a663-4e87-d6de-b091c0ad1edb"
      },
      "source": [
        "z=np.array(df_train['pixelss'][3])\n",
        "zz=z.reshape(48,48)\n",
        "plt.imshow(zz, interpolation='nearest',cmap='gray')\n",
        "plt.show()"
      ],
      "execution_count": 11,
      "outputs": [
        {
          "output_type": "display_data",
          "data": {
            "image/png": "[encoded data removed]",
            "text/plain": [
              "<Figure size 432x288 with 1 Axes>"
            ]
          },
          "metadata": {
            "tags": [],
            "needs_background": "light"
          }
        }
      ]
    },
    {
      "cell_type": "code",
      "metadata": {
        "id": "JEfcsmxb5-RR",
        "colab_type": "code",
        "colab": {}
      },
      "source": [
        "part={}\n",
        "#train_data_length=len(df_train)\n",
        "#ids=list(range(0,train_data_length))\n",
        "#x=math.ceil(0.8*train_data_length)\n",
        "part['train']= list(range(0,len(df_train)))\n",
        "part['valid']= list(range(0,len(df_valid)))\n",
        "part['test']= list(range(0,len(df_test)))\n",
        "train_labels=df_train['emotion'].tolist()\n",
        "valid_labels=df_valid['emotion'].tolist()\n",
        "test_labels=df_test['emotion'].tolist()"
      ],
      "execution_count": 0,
      "outputs": []
    },
    {
      "cell_type": "code",
      "metadata": {
        "id": "2sNOvDW_PqJK",
        "colab_type": "code",
        "colab": {
          "base_uri": "https://localhost:8080/",
          "height": 225
        },
        "outputId": "e240f69d-e6dd-44a6-84fc-388e55c387dd"
      },
      "source": [
        "df_valid['pixelss']"
      ],
      "execution_count": 13,
      "outputs": [
        {
          "output_type": "execute_result",
          "data": {
            "text/plain": [
              "32298    [170, 118, 101, 88, 88, 75, 78, 82, 66, 74, 68...\n",
              "32299    [7, 5, 8, 6, 7, 3, 2, 6, 5, 4, 4, 5, 7, 5, 5, ...\n",
              "32300    [232, 240, 241, 239, 237, 235, 246, 117, 24, 2...\n",
              "32301    [200, 197, 149, 139, 156, 89, 111, 58, 62, 95,...\n",
              "32302    [40, 28, 33, 56, 45, 33, 31, 78, 152, 194, 200...\n",
              "                               ...                        \n",
              "35882    [50, 36, 17, 22, 23, 29, 33, 39, 34, 37, 37, 3...\n",
              "35883    [178, 174, 172, 173, 181, 188, 191, 194, 196, ...\n",
              "35884    [17, 17, 16, 23, 28, 22, 19, 17, 25, 26, 20, 2...\n",
              "35885    [30, 28, 28, 29, 31, 30, 42, 68, 79, 81, 77, 6...\n",
              "35886    [19, 13, 14, 12, 13, 16, 21, 33, 50, 57, 71, 8...\n",
              "Name: pixelss, Length: 3589, dtype: object"
            ]
          },
          "metadata": {
            "tags": []
          },
          "execution_count": 13
        }
      ]
    },
    {
      "cell_type": "code",
      "metadata": {
        "id": "gIYh1f7S8rb4",
        "colab_type": "code",
        "colab": {}
      },
      "source": [
        "class Dataset(data.Dataset):\n",
        "  'Characterizes a dataset for PyTorch'\n",
        "  def __init__(self, dff, transforms):\n",
        "        'Initialization'\n",
        "        self.transforms = transforms\n",
        "        self.dff=dff\n",
        "\n",
        "  def __len__(self):\n",
        "        'Denotes the total number of samples'\n",
        "        return len(self.dff)\n",
        "\n",
        "  def __getitem__(self, index):\n",
        "        'Generates one sample of data'\n",
        "        # Select sample\n",
        "        #ID = self.list_IDs[index]\n",
        "\n",
        "        # Load data and get label\n",
        "        X = self.dff.iloc[index]['pixelss']\n",
        "        X = np.array(X).reshape(48,48,1)\n",
        "        y = self.dff.iloc[index]['emotion']\n",
        "\n",
        "        if self.transforms:\n",
        "          X = self.transforms(X)\n",
        "        \n",
        "        X = torch.cat((X,X,X),0)\n",
        "\n",
        "        return X, y"
      ],
      "execution_count": 0,
      "outputs": []
    },
    {
      "cell_type": "code",
      "metadata": {
        "id": "xeQ21qStCHfj",
        "colab_type": "code",
        "colab": {}
      },
      "source": [
        "params = {'batch_size': 64,\n",
        "          'shuffle': True,\n",
        "          'num_workers': 10}"
      ],
      "execution_count": 0,
      "outputs": []
    },
    {
      "cell_type": "code",
      "metadata": {
        "id": "niy6iBUwHlyE",
        "colab_type": "code",
        "colab": {}
      },
      "source": [
        "class AlbumentationWrapper(object):\n",
        "    def __init__(self,split):\n",
        "        self.split=split\n",
        "        self.aug=albumentations.Compose([                                         \n",
        "    albumentations.Normalize((0.5), (0.5)),\n",
        "    AT.ToTensor()\n",
        "    ])\n",
        "\t\n",
        "        if self.split=='train':\n",
        "            self.aug=albumentations.Compose([\n",
        "                                             \n",
        "            #albumentations.Resize(48,48),\n",
        "    albumentations.HorizontalFlip(),\n",
        "    #albumentations.RandomBrightness(),\n",
        "    #albumentations.ShiftScaleRotate(rotate_limit=15, scale_limit=0.10),\n",
        "    #albumentations.HueSaturationValue(),\n",
        "    albumentations.Cutout(2,2,2,0.5),\n",
        "    albumentations.GaussNoise(),\n",
        "    #albumentations.ElasticTransform(),    \n",
        "    albumentations.Normalize((0.5), (0.5)),\n",
        "    AT.ToTensor()    \n",
        "    ])\n",
        "            \n",
        "    def __call__(self,img):\n",
        "        #img = np.array(img)\n",
        "        img = self.aug(image=img)['image']\n",
        "        return img"
      ],
      "execution_count": 0,
      "outputs": []
    },
    {
      "cell_type": "code",
      "metadata": {
        "id": "D697i3ifHymT",
        "colab_type": "code",
        "colab": {}
      },
      "source": [
        "train_transforms , validation_transforms=AlbumentationWrapper('train'), AlbumentationWrapper('test')"
      ],
      "execution_count": 0,
      "outputs": []
    },
    {
      "cell_type": "code",
      "metadata": {
        "id": "KXPV1wm7C0Dc",
        "colab_type": "code",
        "colab": {}
      },
      "source": [
        "training_set = Dataset(df_train, train_transforms)\n",
        "training_generator = data.DataLoader(training_set, **params)\n",
        "\n",
        "validation_set = Dataset(df_valid, validation_transforms)\n",
        "validation_generator = data.DataLoader(validation_set, **params)\n",
        "\n",
        "test_set = Dataset(df_test, validation_transforms)\n",
        "test_generator = data.DataLoader(test_set, **params)"
      ],
      "execution_count": 0,
      "outputs": []
    },
    {
      "cell_type": "code",
      "metadata": {
        "id": "D76ASD9iDbbK",
        "colab_type": "code",
        "colab": {}
      },
      "source": [
        "import torchvision.models as models\n",
        "from torch import nn\n",
        "from torchsummary import summary\n",
        "from collections import OrderedDict\n",
        "import torch.optim as optim"
      ],
      "execution_count": 0,
      "outputs": []
    },
    {
      "cell_type": "code",
      "metadata": {
        "id": "UxfU98a-QceQ",
        "colab_type": "code",
        "colab": {}
      },
      "source": [
        "def model_params(model, input_size,device):\n",
        "  model = model.to(device)\n",
        "  summary(model, input_size)"
      ],
      "execution_count": 0,
      "outputs": []
    },
    {
      "cell_type": "code",
      "metadata": {
        "id": "oYNB-nrTRdzL",
        "colab_type": "code",
        "colab": {}
      },
      "source": [
        "#model_params(model,(3,28,28),device)"
      ],
      "execution_count": 0,
      "outputs": []
    },
    {
      "cell_type": "code",
      "metadata": {
        "id": "-GcGlmKQX_Mc",
        "colab_type": "code",
        "colab": {}
      },
      "source": [
        "def plot(train_losses,train_acc,test_losses,test_acc, label):\n",
        "  fig, axs = plt.subplots(1,2,figsize=(20,8))\n",
        "  axs[0].plot(test_losses, label=label)\n",
        "  axs[0].set_title(\"Test Loss\")\n",
        "  axs[1].plot(test_acc, label=label)\n",
        "  axs[1].set_title(\"Test Accuracy\")"
      ],
      "execution_count": 0,
      "outputs": []
    },
    {
      "cell_type": "code",
      "metadata": {
        "id": "UoWqA22vavXM",
        "colab_type": "code",
        "colab": {}
      },
      "source": [
        "def get_lr(optimizer):\n",
        "    for param_group in optimizer.param_groups:\n",
        "        return param_group['lr']"
      ],
      "execution_count": 0,
      "outputs": []
    },
    {
      "cell_type": "code",
      "metadata": {
        "id": "dda3aWOyqsn1",
        "colab_type": "code",
        "colab": {}
      },
      "source": [
        "def train(model, train_loader, optimizer,scheduler):\n",
        "  model.train()\n",
        "  pbar = tqdm(train_loader)\n",
        "  running_loss = 0.0\n",
        "  correct = 0\n",
        "  processed = 0\n",
        "  criterion = nn.CrossEntropyLoss()\n",
        "\n",
        "  for batch_idx, (data, target) in enumerate(pbar):\n",
        "    data, target = data.to(device), target.to(device)\n",
        "    optimizer.zero_grad()\n",
        "    y_pred = model(data)\n",
        "    loss = criterion(y_pred, target)\n",
        "    running_loss += loss.item()\n",
        "    train_loss.append(loss)\n",
        "    loss.backward()\n",
        "    optimizer.step()\n",
        "    scheduler.step()\n",
        "\n",
        "    pred = y_pred.argmax(dim=1, keepdim=True)  # get the index of the max log-probability\n",
        "    correct += pred.eq(target.view_as(pred)).sum().item()\n",
        "    processed += len(data)\n",
        "\n",
        "    #pbar.set_description(desc= f'Loss={loss.item()} Batch_id={batch_idx} Accuracy={100*correct/processed:0.2f} running_loss={running_loss} threshold={best_loss*(0.996)}')\n",
        "    train_acc.append(100*correct/processed)\n",
        "    pbar.set_description(desc= f'Loss={loss.item()} Batch_id={batch_idx} le={get_lr(optimizer)} Accuracy={100*correct/processed:0.2f}')"
      ],
      "execution_count": 0,
      "outputs": []
    },
    {
      "cell_type": "code",
      "metadata": {
        "id": "CJcYGU1xbZX4",
        "colab_type": "code",
        "colab": {}
      },
      "source": [
        "def test(model, test_loader):\n",
        "    model.eval()\n",
        "    test_loss = 0\n",
        "    correct = 0\n",
        "    criterion = nn.CrossEntropyLoss()\n",
        "    with torch.no_grad():\n",
        "        for data, target in test_loader:\n",
        "            data, target = data.to(device), target.to(device)\n",
        "            output = model(data)\n",
        "            test_loss += criterion(output, target).item()  # sum up batch loss\n",
        "            pred = output.argmax(dim=1, keepdim=True)  # get the index of the max log-probability\n",
        "            new_target=target.view_as(pred)\n",
        "            correct += pred.eq(target.view_as(pred)).sum().item()\n",
        "\n",
        "    test_loss /= len(test_loader.dataset)\n",
        "    valid_loss.append(test_loss)\n",
        "\n",
        "    print('\\nTest set: Average loss: {:.4f}, Accuracy: {}/{} ({:.2f}%)\\n'.format(\n",
        "        test_loss, correct, len(test_loader.dataset),\n",
        "        100. * correct / len(test_loader.dataset)))\n",
        "    \n",
        "    valid_acc.append(100. * correct / len(test_loader.dataset))"
      ],
      "execution_count": 0,
      "outputs": []
    },
    {
      "cell_type": "code",
      "metadata": {
        "id": "Y-SiSihP_qgu",
        "colab_type": "code",
        "colab": {}
      },
      "source": [
        "class Net(nn.Module):\n",
        "    def __init__(self, dropout):\n",
        "        super(Net, self).__init__()\n",
        "        dropout_value = dropout\n",
        "        # Input Block\n",
        "        self.convblock1 = nn.Sequential(\n",
        "            nn.Conv2d(in_channels=3, out_channels=32, kernel_size=(3, 3), padding=1, bias=False),\n",
        "            nn.ReLU(),\n",
        "            nn.BatchNorm2d(32),\n",
        "            # nn.Dropout(dropout_value)\n",
        "        ) \n",
        "\n",
        "        self.convblock2 = nn.Sequential(\n",
        "            nn.Conv2d(in_channels=32, out_channels=64, kernel_size=(3, 3), padding=1, bias=False),\n",
        "            nn.ReLU(),\n",
        "            nn.BatchNorm2d(64),\n",
        "            # nn.Dropout(dropout_value)            \n",
        "        ) \n",
        "\n",
        "        # TRANSITION BLOCK 1\n",
        "        self.pool1 = nn.MaxPool2d(2, 2) # output_size = 24 RF=7\n",
        "        self.convblock3 = nn.Sequential(\n",
        "            nn.Conv2d(in_channels=64, out_channels=128, kernel_size=(3, 3), padding=1, bias=False),\n",
        "            nn.ReLU(),\n",
        "            nn.BatchNorm2d(128),\n",
        "            # nn.Dropout(dropout_value)            \n",
        "        ) \n",
        "\n",
        "        self.convblock4 = nn.Sequential(\n",
        "            nn.Conv2d(in_channels=128, out_channels=256, kernel_size=(3, 3), padding=1, bias=False),\n",
        "            nn.ReLU(),\n",
        "            nn.BatchNorm2d(256),\n",
        "        ) \n",
        "\n",
        "        self.convblock5 = nn.Sequential(\n",
        "            nn.Conv2d(in_channels=256, out_channels=512, kernel_size=(1, 1), padding=1 , bias=False),\n",
        "            nn.ReLU(),\n",
        "            nn.BatchNorm2d(512),\n",
        "            # nn.Dropout(dropout_value)            \n",
        "        ) \n",
        "\n",
        "        # TRANSITION BLOCK 2\n",
        "        self.pool2 = nn.MaxPool2d(2, 2) # output_size = 12 RF=20\n",
        "\n",
        "        # CONVOLUTION BLOCK 2\n",
        "        self.convblock6 = nn.Sequential(\n",
        "            nn.Conv2d(in_channels=512, out_channels=1024, kernel_size=(3, 3), padding=1, bias=False),\n",
        "            nn.ReLU(),\n",
        "            nn.BatchNorm2d(1024),\n",
        "            # nn.Dropout(dropout_value)            \n",
        "        ) \n",
        "\n",
        "        self.convblock7 = nn.Sequential(\n",
        "            nn.Conv2d(in_channels=1024, out_channels=1024, kernel_size=(3, 3), padding=1, bias=False),\n",
        "            nn.ReLU(),\n",
        "            nn.BatchNorm2d(1024),\n",
        "            # nn.Dropout(dropout_value)            \n",
        "        )\n",
        "\n",
        "        # TRANSITION BLOCK 3\n",
        "        self.pool3 = nn.MaxPool2d(2, 2) # output_size =6 RF=32\n",
        "\n",
        "        self.convblock8 = nn.Sequential(\n",
        "             nn.Conv2d(in_channels=1024, out_channels=512, kernel_size=(3, 3), padding=1, bias=False),\n",
        "             nn.ReLU(),\n",
        "             nn.BatchNorm2d(512),\n",
        "             # nn.Dropout(dropout_value)            \n",
        "         ) \n",
        "\n",
        "        self.convblock9 = nn.Sequential(\n",
        "             nn.Conv2d(in_channels=512, out_channels=256, kernel_size=(3, 3), padding=0, bias=False),\n",
        "             nn.ReLU(),\n",
        "             nn.BatchNorm2d(256),\n",
        "             # nn.Dropout(dropout_value)            \n",
        "         )\n",
        "        # self.pool2 = nn.MaxPool2d(2, 2) # output_size = 2\n",
        "        self.gap = nn.Sequential(\n",
        "            nn.AvgPool2d(kernel_size=4)\n",
        "        ) \n",
        "        self.convblock10 = nn.Sequential(\n",
        "            nn.Conv2d(in_channels=256, out_channels=7, kernel_size=(1, 1), padding=0, bias=False)\n",
        "        ) \n",
        "\n",
        "    def forward(self, x):\n",
        "        x = self.convblock1(x)\n",
        "        x = self.convblock2(x)\n",
        "        x = self.pool1(x)\n",
        "        x = self.convblock3(x)        \n",
        "        x = self.convblock4(x)\n",
        "        x = self.convblock5(x)\n",
        "        x = self.pool2(x)\n",
        "        x = self.convblock6(x)\n",
        "        x = self.convblock7(x)\n",
        "        x = self.pool3(x)   \n",
        "        x = self.convblock8(x) \n",
        "        x = self.convblock9(x)    \n",
        "        x = self.gap(x)\n",
        "        x = self.convblock10(x)\n",
        "        x = x.view(-1, 7)\n",
        "        return F.log_softmax(x, dim=-1)"
      ],
      "execution_count": 0,
      "outputs": []
    },
    {
      "cell_type": "code",
      "metadata": {
        "id": "hasnNis7BWby",
        "colab_type": "code",
        "colab": {
          "base_uri": "https://localhost:8080/",
          "height": 1000
        },
        "outputId": "524e873f-e6db-4370-e05b-f3bdd387f265"
      },
      "source": [
        "model=Net(1.0)\n",
        "model.to(device)\n",
        "epochs=32\n",
        "optimizer = optim.SGD(model.parameters(), lr=0.002, momentum=0.9, weight_decay=9e-4)\n",
        "scheduler = torch.optim.lr_scheduler.OneCycleLR(optimizer, max_lr=0.02, steps_per_epoch=len(training_generator), pct_start=0.2, div_factor=10, cycle_momentum=False, epochs=epochs)\n",
        "\n",
        "input_size=(3,48,48)\n",
        "train_acc = []\n",
        "train_loss = []\n",
        "valid_acc = []\n",
        "valid_loss = []\n",
        "for epoch in range(epochs):\n",
        "    print(\"EPOCH: %s LR: %s \" % (epoch, get_lr(optimizer)))\n",
        "    train(model, training_generator, optimizer,scheduler)\n",
        "    test(model, validation_generator)\n",
        "    #scheduler.step()\n",
        "plot(train_loss,train_acc, valid_loss, valid_acc, 'Loss & Accuracy')"
      ],
      "execution_count": 27,
      "outputs": [
        {
          "output_type": "stream",
          "text": [
            "\r  0%|          | 0/449 [00:00<?, ?it/s]"
          ],
          "name": "stderr"
        },
        {
          "output_type": "stream",
          "text": [
            "EPOCH: 0 LR: 0.0019999999999999983 \n"
          ],
          "name": "stdout"
        },
        {
          "output_type": "stream",
          "text": [
            "Loss=1.8162355422973633 Batch_id=448 le=0.0030634337130716477 Accuracy=28.82: 100%|██████████| 449/449 [02:15<00:00,  3.32it/s]\n",
            "  0%|          | 0/449 [00:00<?, ?it/s]"
          ],
          "name": "stderr"
        },
        {
          "output_type": "stream",
          "text": [
            "\n",
            "Test set: Average loss: 0.0237, Accuracy: 1562/3589 (43.52%)\n",
            "\n",
            "EPOCH: 1 LR: 0.0030634337130716477 \n"
          ],
          "name": "stdout"
        },
        {
          "output_type": "stream",
          "text": [
            "Loss=1.5955754518508911 Batch_id=448 le=0.006002425682931637 Accuracy=36.08: 100%|██████████| 449/449 [02:16<00:00,  3.28it/s]\n",
            "  0%|          | 0/449 [00:00<?, ?it/s]"
          ],
          "name": "stderr"
        },
        {
          "output_type": "stream",
          "text": [
            "\n",
            "Test set: Average loss: 0.0208, Accuracy: 1802/3589 (50.21%)\n",
            "\n",
            "EPOCH: 2 LR: 0.006002425682931637 \n"
          ],
          "name": "stdout"
        },
        {
          "output_type": "stream",
          "text": [
            "Loss=1.6397616863250732 Batch_id=448 le=0.010122437433314183 Accuracy=38.28: 100%|██████████| 449/449 [02:16<00:00,  3.28it/s]\n",
            "  0%|          | 0/449 [00:00<?, ?it/s]"
          ],
          "name": "stderr"
        },
        {
          "output_type": "stream",
          "text": [
            "\n",
            "Test set: Average loss: 0.0192, Accuracy: 1860/3589 (51.83%)\n",
            "\n",
            "EPOCH: 3 LR: 0.010122437433314183 \n"
          ],
          "name": "stdout"
        },
        {
          "output_type": "stream",
          "text": [
            "Loss=1.664178490638733 Batch_id=448 le=0.014449833543417487 Accuracy=39.25: 100%|██████████| 449/449 [02:16<00:00,  3.28it/s]\n",
            "  0%|          | 0/449 [00:00<?, ?it/s]"
          ],
          "name": "stderr"
        },
        {
          "output_type": "stream",
          "text": [
            "\n",
            "Test set: Average loss: 0.0192, Accuracy: 1924/3589 (53.61%)\n",
            "\n",
            "EPOCH: 4 LR: 0.014449833543417487 \n"
          ],
          "name": "stdout"
        },
        {
          "output_type": "stream",
          "text": [
            "Loss=1.7090476751327515 Batch_id=448 le=0.017961969810286214 Accuracy=40.27: 100%|██████████| 449/449 [02:16<00:00,  3.28it/s]\n",
            "  0%|          | 0/449 [00:00<?, ?it/s]"
          ],
          "name": "stderr"
        },
        {
          "output_type": "stream",
          "text": [
            "\n",
            "Test set: Average loss: 0.0184, Accuracy: 2002/3589 (55.78%)\n",
            "\n",
            "EPOCH: 5 LR: 0.017961969810286214 \n"
          ],
          "name": "stdout"
        },
        {
          "output_type": "stream",
          "text": [
            "Loss=1.4405971765518188 Batch_id=448 le=0.019828863098122623 Accuracy=41.12: 100%|██████████| 449/449 [02:16<00:00,  3.28it/s]\n",
            "  0%|          | 0/449 [00:00<?, ?it/s]"
          ],
          "name": "stderr"
        },
        {
          "output_type": "stream",
          "text": [
            "\n",
            "Test set: Average loss: 0.0175, Accuracy: 2102/3589 (58.57%)\n",
            "\n",
            "EPOCH: 6 LR: 0.019828863098122623 \n"
          ],
          "name": "stdout"
        },
        {
          "output_type": "stream",
          "text": [
            "Loss=1.540640950202942 Batch_id=448 le=0.01997270340423158 Accuracy=42.03: 100%|██████████| 449/449 [02:16<00:00,  3.29it/s]\n",
            "  0%|          | 0/449 [00:00<?, ?it/s]"
          ],
          "name": "stderr"
        },
        {
          "output_type": "stream",
          "text": [
            "\n",
            "Test set: Average loss: 0.0188, Accuracy: 2028/3589 (56.51%)\n",
            "\n",
            "EPOCH: 7 LR: 0.01997270340423158 \n"
          ],
          "name": "stdout"
        },
        {
          "output_type": "stream",
          "text": [
            "Loss=1.2844151258468628 Batch_id=448 le=0.01980732115328246 Accuracy=42.88: 100%|██████████| 449/449 [02:16<00:00,  3.28it/s]\n",
            "  0%|          | 0/449 [00:00<?, ?it/s]"
          ],
          "name": "stderr"
        },
        {
          "output_type": "stream",
          "text": [
            "\n",
            "Test set: Average loss: 0.0166, Accuracy: 2165/3589 (60.32%)\n",
            "\n",
            "EPOCH: 8 LR: 0.01980732115328246 \n"
          ],
          "name": "stdout"
        },
        {
          "output_type": "stream",
          "text": [
            "Loss=1.4906305074691772 Batch_id=448 le=0.019494429167601215 Accuracy=43.53: 100%|██████████| 449/449 [02:16<00:00,  3.29it/s]\n",
            "  0%|          | 0/449 [00:00<?, ?it/s]"
          ],
          "name": "stderr"
        },
        {
          "output_type": "stream",
          "text": [
            "\n",
            "Test set: Average loss: 0.0174, Accuracy: 2164/3589 (60.30%)\n",
            "\n",
            "EPOCH: 9 LR: 0.019494429167601215 \n"
          ],
          "name": "stdout"
        },
        {
          "output_type": "stream",
          "text": [
            "Loss=1.4050627946853638 Batch_id=448 le=0.019038733633893166 Accuracy=43.99: 100%|██████████| 449/449 [02:16<00:00,  3.30it/s]\n",
            "  0%|          | 0/449 [00:00<?, ?it/s]"
          ],
          "name": "stderr"
        },
        {
          "output_type": "stream",
          "text": [
            "\n",
            "Test set: Average loss: 0.0164, Accuracy: 2162/3589 (60.24%)\n",
            "\n",
            "EPOCH: 10 LR: 0.019038733633893166 \n"
          ],
          "name": "stdout"
        },
        {
          "output_type": "stream",
          "text": [
            "Loss=1.653092622756958 Batch_id=448 le=0.018447088637147856 Accuracy=44.20: 100%|██████████| 449/449 [02:15<00:00,  3.31it/s]\n",
            "  0%|          | 0/449 [00:00<?, ?it/s]"
          ],
          "name": "stderr"
        },
        {
          "output_type": "stream",
          "text": [
            "\n",
            "Test set: Average loss: 0.0168, Accuracy: 2185/3589 (60.88%)\n",
            "\n",
            "EPOCH: 11 LR: 0.018447088637147856 \n"
          ],
          "name": "stdout"
        },
        {
          "output_type": "stream",
          "text": [
            "Loss=1.3488965034484863 Batch_id=448 le=0.017728393068821027 Accuracy=45.52: 100%|██████████| 449/449 [02:16<00:00,  3.30it/s]\n",
            "  0%|          | 0/449 [00:00<?, ?it/s]"
          ],
          "name": "stderr"
        },
        {
          "output_type": "stream",
          "text": [
            "\n",
            "Test set: Average loss: 0.0161, Accuracy: 2233/3589 (62.22%)\n",
            "\n",
            "EPOCH: 12 LR: 0.017728393068821027 \n"
          ],
          "name": "stdout"
        },
        {
          "output_type": "stream",
          "text": [
            "Loss=1.3903796672821045 Batch_id=448 le=0.016893456779224002 Accuracy=45.55: 100%|██████████| 449/449 [02:15<00:00,  3.31it/s]\n",
            "  0%|          | 0/449 [00:00<?, ?it/s]"
          ],
          "name": "stderr"
        },
        {
          "output_type": "stream",
          "text": [
            "\n",
            "Test set: Average loss: 0.0160, Accuracy: 2227/3589 (62.05%)\n",
            "\n",
            "EPOCH: 13 LR: 0.016893456779224002 \n"
          ],
          "name": "stdout"
        },
        {
          "output_type": "stream",
          "text": [
            "Loss=1.2840741872787476 Batch_id=448 le=0.015954837987313175 Accuracy=46.12: 100%|██████████| 449/449 [02:15<00:00,  3.31it/s]\n",
            "  0%|          | 0/449 [00:00<?, ?it/s]"
          ],
          "name": "stderr"
        },
        {
          "output_type": "stream",
          "text": [
            "\n",
            "Test set: Average loss: 0.0164, Accuracy: 2220/3589 (61.86%)\n",
            "\n",
            "EPOCH: 14 LR: 0.015954837987313175 \n"
          ],
          "name": "stdout"
        },
        {
          "output_type": "stream",
          "text": [
            "Loss=1.64229416847229 Batch_id=448 le=0.014926654393387674 Accuracy=46.99: 100%|██████████| 449/449 [02:15<00:00,  3.32it/s]\n",
            "  0%|          | 0/449 [00:00<?, ?it/s]"
          ],
          "name": "stderr"
        },
        {
          "output_type": "stream",
          "text": [
            "\n",
            "Test set: Average loss: 0.0160, Accuracy: 2279/3589 (63.50%)\n",
            "\n",
            "EPOCH: 15 LR: 0.014926654393387674 \n"
          ],
          "name": "stdout"
        },
        {
          "output_type": "stream",
          "text": [
            "Loss=1.1482453346252441 Batch_id=448 le=0.013824370835736084 Accuracy=47.49: 100%|██████████| 449/449 [02:15<00:00,  3.31it/s]\n",
            "  0%|          | 0/449 [00:00<?, ?it/s]"
          ],
          "name": "stderr"
        },
        {
          "output_type": "stream",
          "text": [
            "\n",
            "Test set: Average loss: 0.0151, Accuracy: 2322/3589 (64.70%)\n",
            "\n",
            "EPOCH: 16 LR: 0.013824370835736084 \n"
          ],
          "name": "stdout"
        },
        {
          "output_type": "stream",
          "text": [
            "Loss=1.2221027612686157 Batch_id=448 le=0.012664566685073859 Accuracy=47.90: 100%|██████████| 449/449 [02:15<00:00,  3.32it/s]\n",
            "  0%|          | 0/449 [00:00<?, ?it/s]"
          ],
          "name": "stderr"
        },
        {
          "output_type": "stream",
          "text": [
            "\n",
            "Test set: Average loss: 0.0159, Accuracy: 2318/3589 (64.59%)\n",
            "\n",
            "EPOCH: 17 LR: 0.012664566685073859 \n"
          ],
          "name": "stdout"
        },
        {
          "output_type": "stream",
          "text": [
            "Loss=1.5824140310287476 Batch_id=448 le=0.011464686475375662 Accuracy=49.09: 100%|██████████| 449/449 [02:15<00:00,  3.31it/s]\n",
            "  0%|          | 0/449 [00:00<?, ?it/s]"
          ],
          "name": "stderr"
        },
        {
          "output_type": "stream",
          "text": [
            "\n",
            "Test set: Average loss: 0.0154, Accuracy: 2271/3589 (63.28%)\n",
            "\n",
            "EPOCH: 18 LR: 0.011464686475375662 \n"
          ],
          "name": "stdout"
        },
        {
          "output_type": "stream",
          "text": [
            "Loss=1.3573566675186157 Batch_id=448 le=0.010242777521846942 Accuracy=49.73: 100%|██████████| 449/449 [02:14<00:00,  3.33it/s]\n",
            "  0%|          | 0/449 [00:00<?, ?it/s]"
          ],
          "name": "stderr"
        },
        {
          "output_type": "stream",
          "text": [
            "\n",
            "Test set: Average loss: 0.0159, Accuracy: 2278/3589 (63.47%)\n",
            "\n",
            "EPOCH: 19 LR: 0.010242777521846942 \n"
          ],
          "name": "stdout"
        },
        {
          "output_type": "stream",
          "text": [
            "Loss=1.2509315013885498 Batch_id=448 le=0.009017218472504782 Accuracy=50.93: 100%|██████████| 449/449 [02:15<00:00,  3.32it/s]\n",
            "  0%|          | 0/449 [00:00<?, ?it/s]"
          ],
          "name": "stderr"
        },
        {
          "output_type": "stream",
          "text": [
            "\n",
            "Test set: Average loss: 0.0162, Accuracy: 2285/3589 (63.67%)\n",
            "\n",
            "EPOCH: 20 LR: 0.009017218472504782 \n"
          ],
          "name": "stdout"
        },
        {
          "output_type": "stream",
          "text": [
            "Loss=1.180890679359436 Batch_id=448 le=0.007806442876204813 Accuracy=52.36: 100%|██████████| 449/449 [02:14<00:00,  3.33it/s]\n",
            "  0%|          | 0/449 [00:00<?, ?it/s]"
          ],
          "name": "stderr"
        },
        {
          "output_type": "stream",
          "text": [
            "\n",
            "Test set: Average loss: 0.0156, Accuracy: 2354/3589 (65.59%)\n",
            "\n",
            "EPOCH: 21 LR: 0.007806442876204813 \n"
          ],
          "name": "stdout"
        },
        {
          "output_type": "stream",
          "text": [
            "Loss=1.2218623161315918 Batch_id=448 le=0.006628661924908432 Accuracy=53.21: 100%|██████████| 449/449 [02:14<00:00,  3.33it/s]\n",
            "  0%|          | 0/449 [00:00<?, ?it/s]"
          ],
          "name": "stderr"
        },
        {
          "output_type": "stream",
          "text": [
            "\n",
            "Test set: Average loss: 0.0156, Accuracy: 2339/3589 (65.17%)\n",
            "\n",
            "EPOCH: 22 LR: 0.006628661924908432 \n"
          ],
          "name": "stdout"
        },
        {
          "output_type": "stream",
          "text": [
            "Loss=0.9456607699394226 Batch_id=448 le=0.005501590540404688 Accuracy=54.36: 100%|██████████| 449/449 [02:14<00:00,  3.33it/s]\n",
            "  0%|          | 0/449 [00:00<?, ?it/s]"
          ],
          "name": "stderr"
        },
        {
          "output_type": "stream",
          "text": [
            "\n",
            "Test set: Average loss: 0.0159, Accuracy: 2360/3589 (65.76%)\n",
            "\n",
            "EPOCH: 23 LR: 0.005501590540404688 \n"
          ],
          "name": "stdout"
        },
        {
          "output_type": "stream",
          "text": [
            "Loss=1.0514447689056396 Batch_id=448 le=0.004442180925397468 Accuracy=55.65: 100%|██████████| 449/449 [02:15<00:00,  3.32it/s]\n",
            "  0%|          | 0/449 [00:00<?, ?it/s]"
          ],
          "name": "stderr"
        },
        {
          "output_type": "stream",
          "text": [
            "\n",
            "Test set: Average loss: 0.0163, Accuracy: 2388/3589 (66.54%)\n",
            "\n",
            "EPOCH: 24 LR: 0.004442180925397468 \n"
          ],
          "name": "stdout"
        },
        {
          "output_type": "stream",
          "text": [
            "Loss=1.1648427248001099 Batch_id=448 le=0.003466367586597686 Accuracy=57.19: 100%|██████████| 449/449 [02:14<00:00,  3.33it/s]\n",
            "  0%|          | 0/449 [00:00<?, ?it/s]"
          ],
          "name": "stderr"
        },
        {
          "output_type": "stream",
          "text": [
            "\n",
            "Test set: Average loss: 0.0166, Accuracy: 2404/3589 (66.98%)\n",
            "\n",
            "EPOCH: 25 LR: 0.003466367586597686 \n"
          ],
          "name": "stdout"
        },
        {
          "output_type": "stream",
          "text": [
            "Loss=1.1350675821304321 Batch_id=448 le=0.0025888276649104597 Accuracy=58.87: 100%|██████████| 449/449 [02:14<00:00,  3.34it/s]\n",
            "  0%|          | 0/449 [00:00<?, ?it/s]"
          ],
          "name": "stderr"
        },
        {
          "output_type": "stream",
          "text": [
            "\n",
            "Test set: Average loss: 0.0173, Accuracy: 2393/3589 (66.68%)\n",
            "\n",
            "EPOCH: 26 LR: 0.0025888276649104597 \n"
          ],
          "name": "stdout"
        },
        {
          "output_type": "stream",
          "text": [
            "Loss=1.1061333417892456 Batch_id=448 le=0.0018227601775743923 Accuracy=59.19: 100%|██████████| 449/449 [02:14<00:00,  3.33it/s]\n",
            "  0%|          | 0/449 [00:00<?, ?it/s]"
          ],
          "name": "stderr"
        },
        {
          "output_type": "stream",
          "text": [
            "\n",
            "Test set: Average loss: 0.0167, Accuracy: 2430/3589 (67.71%)\n",
            "\n",
            "EPOCH: 27 LR: 0.0018227601775743923 \n"
          ],
          "name": "stdout"
        },
        {
          "output_type": "stream",
          "text": [
            "Loss=0.9230332374572754 Batch_id=448 le=0.0011796874926566104 Accuracy=60.10: 100%|██████████| 449/449 [02:15<00:00,  3.33it/s]\n",
            "  0%|          | 0/449 [00:00<?, ?it/s]"
          ],
          "name": "stderr"
        },
        {
          "output_type": "stream",
          "text": [
            "\n",
            "Test set: Average loss: 0.0169, Accuracy: 2426/3589 (67.60%)\n",
            "\n",
            "EPOCH: 28 LR: 0.0011796874926566104 \n"
          ],
          "name": "stdout"
        },
        {
          "output_type": "stream",
          "text": [
            "Loss=0.7695614695549011 Batch_id=448 le=0.0006692820219119917 Accuracy=60.94: 100%|██████████| 449/449 [02:14<00:00,  3.34it/s]\n",
            "  0%|          | 0/449 [00:00<?, ?it/s]"
          ],
          "name": "stderr"
        },
        {
          "output_type": "stream",
          "text": [
            "\n",
            "Test set: Average loss: 0.0170, Accuracy: 2453/3589 (68.35%)\n",
            "\n",
            "EPOCH: 29 LR: 0.0006692820219119917 \n"
          ],
          "name": "stdout"
        },
        {
          "output_type": "stream",
          "text": [
            "Loss=0.9851700067520142 Batch_id=448 le=0.0002992207387072647 Accuracy=60.78: 100%|██████████| 449/449 [02:14<00:00,  3.33it/s]\n",
            "  0%|          | 0/449 [00:00<?, ?it/s]"
          ],
          "name": "stderr"
        },
        {
          "output_type": "stream",
          "text": [
            "\n",
            "Test set: Average loss: 0.0172, Accuracy: 2449/3589 (68.24%)\n",
            "\n",
            "EPOCH: 30 LR: 0.0002992207387072647 \n"
          ],
          "name": "stdout"
        },
        {
          "output_type": "stream",
          "text": [
            "Loss=1.008679986000061 Batch_id=448 le=7.506970919582438e-05 Accuracy=61.11: 100%|██████████| 449/449 [02:14<00:00,  3.35it/s]\n",
            "  0%|          | 0/449 [00:00<?, ?it/s]"
          ],
          "name": "stderr"
        },
        {
          "output_type": "stream",
          "text": [
            "\n",
            "Test set: Average loss: 0.0168, Accuracy: 2455/3589 (68.40%)\n",
            "\n",
            "EPOCH: 31 LR: 7.506970919582438e-05 \n"
          ],
          "name": "stdout"
        },
        {
          "output_type": "stream",
          "text": [
            "Loss=0.7571970224380493 Batch_id=448 le=2.0037350187915896e-07 Accuracy=61.61: 100%|██████████| 449/449 [02:14<00:00,  3.33it/s]\n"
          ],
          "name": "stderr"
        },
        {
          "output_type": "stream",
          "text": [
            "\n",
            "Test set: Average loss: 0.0172, Accuracy: 2456/3589 (68.43%)\n",
            "\n"
          ],
          "name": "stdout"
        },
        {
          "output_type": "display_data",
          "data": {
            "image/png": "[encoded data removed]",
            "text/plain": [
              "<Figure size 1440x576 with 2 Axes>"
            ]
          },
          "metadata": {
            "tags": [],
            "needs_background": "light"
          }
        }
      ]
    },
    {
      "cell_type": "code",
      "metadata": {
        "id": "MaU99JpkUPu5",
        "colab_type": "code",
        "colab": {
          "base_uri": "https://localhost:8080/",
          "height": 69
        },
        "outputId": "e8828edb-401b-4565-96dd-49d0b5055d8d"
      },
      "source": [
        "test(model, test_generator)"
      ],
      "execution_count": 28,
      "outputs": [
        {
          "output_type": "stream",
          "text": [
            "\n",
            "Test set: Average loss: 0.0177, Accuracy: 2443/3589 (68.07%)\n",
            "\n"
          ],
          "name": "stdout"
        }
      ]
    }
  ]
}